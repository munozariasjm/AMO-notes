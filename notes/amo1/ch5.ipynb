{
 "cells": [
  {
   "cell_type": "markdown",
   "metadata": {},
   "source": [
    "# Chapter 5: Laser Cooling and Trapping\n",
    "\n",
    "## 5.1 Spontaneous Force\n",
    "\n",
    "- **Definition**: Force exerted on atoms by the momentum transfer of photons, typically involving absorption and spontaneous emission.\n",
    "- **Key Formula**:\n",
    "  - Recoil momentum: $ \\Delta p = -\\hbar k $\n",
    "  - Spontaneous force: $ F = \\frac{\\hbar k \\Gamma_{sc}}{1 + s_0 + \\left(\\frac{2\\delta}{\\Gamma}\\right)^2} $ \n",
    "\n",
    "## 5.2 Laser Cooling: Optical Molasses\n",
    "\n",
    "- **Concept**: Optical molasses use two counter-propagating lasers to create a viscous damping force that cools atoms.\n",
    "- **Key Formulas**:\n",
    "  - Force from one direction: $ F_+ = \\frac{\\hbar k s_0 \\Gamma / 2}{1 + s_0 + \\left[2(\\delta - kv)/\\Gamma\\right]^2} $\n",
    "  - Total force: $ F = F_+ + F_- $\n",
    "\n",
    "## 5.3 The Magneto-Optical Trap (MOT)\n",
    "\n",
    "- **Concept**: Combines optical molasses with magnetic fields to trap and cool atoms.\n",
    "- **Key Formula**:\n",
    "  - MOT force: $ F_{\\pm} = \\pm \\frac{\\hbar k \\Gamma s_0}{1 + s_0 + \\left(2 \\delta_{\\pm} / \\Gamma \\right)^2} $ \n",
    "\n",
    "## 5.4 Photon Cycling\n",
    "\n",
    "- **Concept**: Repeated scattering of photons on atoms, critical in laser cooling for maintaining the cycle of absorption and emission.\n",
    "- **Example**: Using additional \"repump\" lasers to return atoms to the cycling transition.\n",
    "\n",
    "## 5.5 Dipole Force\n",
    "\n",
    "- **Concept**: Non-scattering force arising from the interaction of an induced dipole with an electromagnetic field gradient.\n",
    "- **Key Formulas**:\n",
    "  - Dipole force: $ F = -\\nabla U = -\\nabla \\left(\\frac{d^2 I}{2 c \\epsilon_0 \\hbar \\delta}\\right) $ \n",
    "  - Energy shifts due to dipole trap: $ U = \\pm \\frac{I d^2}{2 c \\epsilon_0 \\hbar \\delta} $ \n",
    "\n",
    "## 5.6 Light Shifts\n",
    "\n",
    "- **Concept**: Changes in energy levels of atoms due to interaction with light, affecting resonance frequencies.\n",
    "- **Key Formula**:\n",
    "  - Light shift: $ \\delta_{LS} = \\frac{2U}{\\hbar} $ \n",
    "\n",
    "## 5.7 Stimulated Forces\n",
    "\n",
    "- **Concept**: Forces based on stimulated emissions, which differ from spontaneous force due to their coherent nature.\n",
    "- **Application**: Used to precisely control atomic motion without spontaneous emission losses.\n",
    "\n",
    "\n"
   ]
  },
  {
   "cell_type": "markdown",
   "metadata": {},
   "source": [
    "\n",
    "## Further Reading\n",
    "\n",
    "- Metcalf and van der Straten's book on laser cooling and trapping provides extensive insights into these concepts.\n",
    "- Additional resources include Grimm, Weidemüller, and Ovchinnikov's review in *Adv. At. Mol. Opt. Phys.*"
   ]
  },
  {
   "cell_type": "markdown",
   "metadata": {},
   "source": []
  }
 ],
 "metadata": {
  "language_info": {
   "name": "python"
  }
 },
 "nbformat": 4,
 "nbformat_minor": 2
}
